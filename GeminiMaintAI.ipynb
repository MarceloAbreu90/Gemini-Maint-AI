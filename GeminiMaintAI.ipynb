{
  "nbformat": 4,
  "nbformat_minor": 0,
  "metadata": {
    "colab": {
      "provenance": [],
      "authorship_tag": "ABX9TyOS91GAaIdIsLNJyUC82EKo",
      "include_colab_link": true
    },
    "kernelspec": {
      "name": "python3",
      "display_name": "Python 3"
    },
    "language_info": {
      "name": "python"
    }
  },
  "cells": [
    {
      "cell_type": "markdown",
      "metadata": {
        "id": "view-in-github",
        "colab_type": "text"
      },
      "source": [
        "<a href=\"https://colab.research.google.com/github/MarceloAbreu90/Gemini-Maint-AI/blob/main/GeminiMaintAI.ipynb\" target=\"_parent\"><img src=\"https://colab.research.google.com/assets/colab-badge.svg\" alt=\"Open In Colab\"/></a>"
      ]
    },
    {
      "cell_type": "code",
      "execution_count": null,
      "metadata": {
        "id": "rfzUZIHPic7f"
      },
      "outputs": [],
      "source": [
        "#Instalando o SDK do Google\n",
        "!pip install -q -U google-generativeai clear-screen"
      ]
    },
    {
      "cell_type": "code",
      "source": [
        "#Importação das Bibliotecas:\n",
        "import requests\n",
        "import google.generativeai as genai\n",
        "import sys\n",
        "import time\n",
        "from google.colab import userdata\n",
        "from clear_screen import clear"
      ],
      "metadata": {
        "id": "LfAKiYF6i8dA"
      },
      "execution_count": 47,
      "outputs": []
    },
    {
      "cell_type": "code",
      "source": [
        "#Configuração da url do arquivo JSON máquinas\n",
        "url_maquinas = \"https://raw.githubusercontent.com/MarceloAbreu90/Gemini-Maint-AI/main/dados/maquinas.json\""
      ],
      "metadata": {
        "id": "jbsaT7EojDFu"
      },
      "execution_count": 39,
      "outputs": []
    },
    {
      "cell_type": "code",
      "source": [
        "#Configuração da Chave API:\n",
        "api_kei = userdata.get('SECRET_KEY')\n",
        "genai.configure(api_key=api_kei)"
      ],
      "metadata": {
        "id": "MAhS1FUQjGbH"
      },
      "execution_count": 48,
      "outputs": []
    },
    {
      "cell_type": "code",
      "source": [
        "#Parâmetros de Segurança:\n",
        "safety_settings={\n",
        "    'HATE': 'block_only_high',\n",
        "    'HARASSMENT': 'block_only_high',\n",
        "    'SEXUAL' : 'block_only_high',\n",
        "    'DANGEROUS' : 'block_only_high'\n",
        "    }"
      ],
      "metadata": {
        "id": "Am3FdzYKjYaF"
      },
      "execution_count": 6,
      "outputs": []
    },
    {
      "cell_type": "code",
      "source": [
        "#Passando System Instructions para a Gemini AI:\n",
        "system_instructions = \"\"\"\n",
        "Você é um assistente de manutenção industrial chamado Gemini Maint AI, especializado em ajudar operadores de máquinas a resolver problemas, você pode ajudar com seu conhecimento e também consultando o manual da máquina que será disponibilizado via link, sempre cite as paginas do manual que contém as informações que você utilizar e envie no final da sua resposta o link do manual para que o usuário possa consultar caso necessário e avisos de execução de manutenção com segurança.\n",
        "\"\"\""
      ],
      "metadata": {
        "id": "nxGJxxVJjbdm"
      },
      "execution_count": 34,
      "outputs": []
    },
    {
      "cell_type": "code",
      "source": [
        "#Configuração do Modelo:\n",
        "model = genai.GenerativeModel(\n",
        "    model_name='gemini-1.5-pro-latest',\n",
        "    safety_settings=safety_settings\n",
        ")"
      ],
      "metadata": {
        "id": "mZ76IFHzjgAw"
      },
      "execution_count": 8,
      "outputs": []
    },
    {
      "cell_type": "code",
      "source": [
        "#Realiza chamada do arquivo JSON\n",
        "response = requests.get(url_maquinas)\n",
        "data = response.json()"
      ],
      "metadata": {
        "id": "OBE_84gPjjZU"
      },
      "execution_count": 40,
      "outputs": []
    },
    {
      "cell_type": "code",
      "source": [
        "#Função menu principal:\n",
        "def exibir_menu_principal():\n",
        "    clear()\n",
        "    print(\"Seja bem-vindo ao Gemini Maint AI, seu assistente de manutenção industrial!\")\n",
        "    print(\"\\n*** MENU PRINCIPAL ***\")\n",
        "    print(\"\\nPor favor, informe a máquina para obter ajuda:\\n\")\n",
        "\n",
        "    while True:\n",
        "        for i, maquina in enumerate(data):\n",
        "            print(f\"{i+1} - {maquina['nome']} - modelo: {maquina['modelo']}\")\n",
        "\n",
        "        print(\"\\n0 - Sair\")  # Adicionar opção 0\n",
        "\n",
        "        escolha = input(\"\\nDigite o número da máquina: \")\n",
        "\n",
        "        try:\n",
        "            escolha_int = int(escolha)\n",
        "            if escolha_int == 0:\n",
        "                print(\"Encerrando o Gemini Maint AI. Até logo!\")\n",
        "                sys.exit()  # Encerrar o script\n",
        "            elif 1 <= escolha_int <= len(data):\n",
        "                maquina_selecionada = data[escolha_int - 1]\n",
        "                exibir_defeitos(maquina_selecionada)\n",
        "                break  # Sai do loop se a escolha for válida\n",
        "            else:\n",
        "                print(\"Escolha inválida. Por favor, digite um número válido.\")\n",
        "        except ValueError:\n",
        "            print(\"Escolha inválida. Por favor, digite um número.\")"
      ],
      "metadata": {
        "id": "WTegj2D4jteG"
      },
      "execution_count": 21,
      "outputs": []
    },
    {
      "cell_type": "code",
      "source": [
        "#Função menu defeitos:\n",
        "def exibir_defeitos(maquina):\n",
        "    clear()\n",
        "    print(\"\\n\\n----------------------------------------\\n\\n\")\n",
        "    print(\"*** TIPOS DE DEFEITOS ***\")\n",
        "    print(f\"\\nMáquina: {maquina['nome']}\")\n",
        "    print(f\"Modelo: {maquina['modelo']}\")\n",
        "    print(f\"Fabricante: {maquina['fabricante']}\")\n",
        "    print(\"\\nPor favor, informe o defeito:\\n\")\n",
        "\n",
        "    while True:\n",
        "        for i, defeito in enumerate(maquina['defeitos']):\n",
        "            print(f\"{i+1} - {defeito['descricao']}\")\n",
        "\n",
        "        print(\"\\n0 - Voltar ao menu principal\")  # Adicionar opção 0\n",
        "\n",
        "        escolha_defeito = input(\"\\nDigite o número do defeito: \")\n",
        "\n",
        "        try:\n",
        "            escolha_defeito_int = int(escolha_defeito)\n",
        "            if escolha_defeito_int == 0:\n",
        "                print(\"\\n\\n----------------------------------------\\n\\n\")\n",
        "                exibir_menu_principal()  # Voltar ao menu principal\n",
        "                break\n",
        "            elif 1 <= escolha_defeito_int <= len(maquina['defeitos']):\n",
        "                print(\"\\nPor favor aguarde, Gemini Maint AI está processando sua solicitação...\")\n",
        "                time.sleep(1) # Delay para aguardar o print acima antes de iniciar a solicitação ao Gemini\n",
        "                defeito_selecionado = maquina['defeitos'][escolha_defeito_int - 1]\n",
        "                solicita_ajuda_ia(maquina, defeito_selecionado)\n",
        "                break  # Sai do loop se a escolha for válida\n",
        "            else:\n",
        "                print(\"Escolha inválida. Por favor, digite um número válido.\")\n",
        "        except ValueError:\n",
        "            print(\"Escolha inválida. Por favor, digite um número.\")"
      ],
      "metadata": {
        "id": "XSoeLduykNqv"
      },
      "execution_count": 31,
      "outputs": []
    },
    {
      "cell_type": "code",
      "source": [
        "#Solicita ajuda da IA:\n",
        "def solicita_ajuda_ia(maquina, defeito_selecionado):\n",
        "  prompt = f\"\"\"\n",
        "  {system_instructions}\n",
        "  Máquina: {maquina['nome']}\n",
        "  Modelo: {maquina['modelo']}\n",
        "  Fabricante: {maquina['fabricante']}\n",
        "  Manual: {maquina['manual']}\n",
        "  Defeito: {defeito_selecionado['descricao']}\n",
        "  \"\"\"\n",
        "\n",
        "  response = model.generate_content(prompt)\n",
        "\n",
        "  exibir_ajuda(maquina, defeito_selecionado, response)"
      ],
      "metadata": {
        "id": "QUqGSObgkRKH"
      },
      "execution_count": 12,
      "outputs": []
    },
    {
      "cell_type": "code",
      "source": [
        "#Função exibir ajuda:\n",
        "def exibir_ajuda(maquina, defeito_selecionado, response):\n",
        "  clear()\n",
        "  print(\"\\n\\n----------------------------------------\\n\\n\")\n",
        "  print(\"*** AJUDA GEMINI MAINT AI ***\")\n",
        "  print(f\"\\nMáquina: {maquina['nome']}\")\n",
        "  print(f\"Modelo: {maquina['modelo']}\")\n",
        "  print(f\"Fabricante: {maquina['fabricante']}\")\n",
        "  print(f\"\\nDefeito: {defeito_selecionado['descricao']}\\n\")\n",
        "\n",
        "  #print(prompt)\n",
        "  print(response.text)\n",
        "\n",
        "  while True:\n",
        "\n",
        "    voltar_menu = input(\"\\nDigite 0 para voltar ao menu principal: \")\n",
        "\n",
        "    try:\n",
        "        voltar_menu_int = int(voltar_menu)\n",
        "        if voltar_menu_int == 0:\n",
        "            print(\"\\n\\n----------------------------------------\\n\\n\")\n",
        "            exibir_menu_principal()  # Voltar ao menu principal\n",
        "            break\n",
        "        else:\n",
        "            print(\"Escolha inválida. Por favor, digite um número válido.\")\n",
        "    except ValueError:\n",
        "        print(\"Escolha inválida. Por favor, digite um número.\")"
      ],
      "metadata": {
        "id": "89RamJQakVQ7"
      },
      "execution_count": 13,
      "outputs": []
    },
    {
      "cell_type": "code",
      "source": [
        "#Inicia o sistema\n",
        "exibir_menu_principal()"
      ],
      "metadata": {
        "id": "J2UwLzoDkZDz"
      },
      "execution_count": null,
      "outputs": []
    }
  ]
}